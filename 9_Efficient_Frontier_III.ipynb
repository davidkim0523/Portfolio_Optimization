{
 "cells": [
  {
   "cell_type": "markdown",
   "metadata": {},
   "source": [
    "# 효율적 경계선 Part III - 최적화 모듈\n",
    "\n",
    "자산이 2개 이상인 포트폴리오의 효율적 경계선을 생성하기 위해서는 효율적 경계선 상의 포트폴리오 가중치를 찾아야 합니다.\n",
    "\n",
    "우선 2개의 자산 케이스 때 이미 생성한 것과 동일한 종류의 함수를 생성하는 것으로 시작해보겠습니다.\n",
    "\n",
    "```python\n",
    "\n",
    "def plot_ef(n_points, er, cov):\n",
    "    \"\"\"\n",
    "    Plots the multi-asset efficient frontier\n",
    "    \"\"\"\n",
    "    weights = ???? # we need to implement: optimal_weights(n_points, er, cov)\n",
    "    rets = [portfolio_return(w, er) for w in weights]\n",
    "    vols = [portfolio_vol(w, cov) for w in weights]\n",
    "    ef = pd.DataFrame({\n",
    "        \"Returns\": rets, \n",
    "        \"Volatility\": vols\n",
    "    })\n",
    "    return ef.plot.line(x=\"Volatility\", y=\"Returns\", style='.-')\n",
    "```\n",
    "\n",
    "평소와 같이 데이터를 로드합니다."
   ]
  },
  {
   "cell_type": "code",
   "execution_count": 1,
   "metadata": {},
   "outputs": [],
   "source": [
    "%load_ext autoreload\n",
    "%autoreload 2\n",
    "%matplotlib inline\n",
    "import port_opt_toolkit as potk\n",
    "\n",
    "ind = potk.get_ind_returns()\n",
    "er = potk.annualize_rets(ind[\"1996\":\"2000\"], 12)\n",
    "cov = ind[\"1996\":\"2000\"].cov()"
   ]
  },
  {
   "cell_type": "markdown",
   "metadata": {},
   "source": [
    "최적의 가중치를 찾기 위해서는 주어진 수익률 수준에서 최소 변동성을 찾아줄 수 있는 함수가 필요합니다.\n",
    "\n",
    "```python\n",
    "from scipy.optimize import minimize\n",
    "\n",
    "def minimize_vol(target_return, er, cov):\n",
    "    \"\"\"\n",
    "    Returns the optimal weights that achieve the target return\n",
    "    given a set of expected returns and a covariance matrix\n",
    "    \"\"\"\n",
    "    n = er.shape[0]\n",
    "    init_guess = np.repeat(1/n, n)\n",
    "    bounds = ((0.0, 1.0),) * n # an N-tuple of 2-tuples!\n",
    "    # construct the constraints\n",
    "    weights_sum_to_1 = {'type': 'eq',\n",
    "                        'fun': lambda weights: np.sum(weights) - 1\n",
    "    }\n",
    "    return_is_target = {'type': 'eq',\n",
    "                        'args': (er,),\n",
    "                        'fun': lambda weights, er: target_return - erk.portfolio_return(weights,er)\n",
    "    }\n",
    "    weights = minimize(erk.portfolio_vol, init_guess,\n",
    "                       args=(cov,), method='SLSQP',\n",
    "                       options={'disp': False},\n",
    "                       constraints=(weights_sum_to_1,return_is_target),\n",
    "                       bounds=bounds)\n",
    "    return weights.x\n",
    "```\n",
    "\n",
    "위의 함수를 사용하여 'Games'와 'Fin' 간의 2개 자산에 대한 최적화를 진행하고 이를 통해 얻은 결과를 재현해 보겠습니다. 지난 시간에 했던 것처럼 효율적 경계선을 그려보겠습니다."
   ]
  },
  {
   "cell_type": "code",
   "execution_count": 3,
   "metadata": {},
   "outputs": [
    {
     "data": {
      "text/plain": [
       "<matplotlib.axes._subplots.AxesSubplot at 0x1607415cdd8>"
      ]
     },
     "execution_count": 3,
     "metadata": {},
     "output_type": "execute_result"
    },
    {
     "data": {
      "image/png": "[encoded data removed]",
      "text/plain": [
       "<Figure size 432x288 with 1 Axes>"
      ]
     },
     "metadata": {
      "needs_background": "light"
     },
     "output_type": "display_data"
    }
   ],
   "source": [
    "l = [\"Games\", \"Fin\"]\n",
    "potk.plot_ef2(20, er[l], cov.loc[l,l])"
   ]
  },
  {
   "cell_type": "markdown",
   "metadata": {},
   "source": [
    "목표 수익률이 0.15인 포트폴리오의 Efficient Frontier는 약 0.056이므로 최적화 프로그램이 이를 찾을 수 있는지 확인해보겠습니다."
   ]
  },
  {
   "cell_type": "code",
   "execution_count": 4,
   "metadata": {},
   "outputs": [
    {
     "data": {
      "text/plain": [
       "0.05633270209126173"
      ]
     },
     "execution_count": 4,
     "metadata": {},
     "output_type": "execute_result"
    }
   ],
   "source": [
    "weights_15 = potk.minimize_vol(0.15, er[l], cov.loc[l,l])\n",
    "vol_15 = potk.portfolio_vol(weights_15, cov.loc[l,l])\n",
    "vol_15"
   ]
  },
  {
   "cell_type": "markdown",
   "metadata": {},
   "source": [
    "완벽합니다!\n",
    "\n",
    "이제 우리는 목표 수익률이 주어진 경우 변동성을 최소화하기 위한 가중치를 찾을 수 있습니다. 그렇기 때문에 이제는 수익률의 범위를 격자로 나누어 각각의 격자점에서 최소 변동성을 목표로 하는 포트폴리오를 찾아 마침내 효율적 경계선을 그릴 수 있습니다.\n",
    "\n",
    "아래의 두 가지 함수를 모듈에 추가합니다.\n",
    "\n",
    "```python\n",
    "def optimal_weights(n_points, er, cov):\n",
    "    \"\"\"\n",
    "    \"\"\"\n",
    "    target_rs = np.linspace(er.min(), er.max(), n_points)\n",
    "    weights = [minimize_vol(target_return, er, cov) for target_return in target_rs]\n",
    "    return weights\n",
    "\n",
    "def plot_ef(n_points, er, cov):\n",
    "    \"\"\"\n",
    "    Plots the multi-asset efficient frontier\n",
    "    \"\"\"\n",
    "    weights = optimal_weights(n_points, er, cov) # not yet implemented!\n",
    "    rets = [portfolio_return(w, er) for w in weights]\n",
    "    vols = [portfolio_vol(w, cov) for w in weights]\n",
    "    ef = pd.DataFrame({\n",
    "        \"Returns\": rets, \n",
    "        \"Volatility\": vols\n",
    "    })\n",
    "    return ef.plot.line(x=\"Volatility\", y=\"Returns\", style='.-')\n",
    "```"
   ]
  },
  {
   "cell_type": "code",
   "execution_count": 5,
   "metadata": {},
   "outputs": [
    {
     "data": {
      "text/plain": [
       "<matplotlib.axes._subplots.AxesSubplot at 0x1607427ab70>"
      ]
     },
     "execution_count": 5,
     "metadata": {},
     "output_type": "execute_result"
    },
    {
     "data": {
      "image/png": "[encoded data removed]",
      "text/plain": [
       "<Figure size 432x288 with 1 Axes>"
      ]
     },
     "metadata": {
      "needs_background": "light"
     },
     "output_type": "display_data"
    }
   ],
   "source": [
    "l = [\"Smoke\", \"Fin\", \"Games\", \"Coal\"]\n",
    "potk.plot_ef(50, er[l], cov.loc[l,l])"
   ]
  },
  {
   "cell_type": "markdown",
   "metadata": {},
   "source": [
    "포트폴리오의 효율적 경계선이 완성되었습니다."
   ]
  }
 ],
 "metadata": {
  "kernelspec": {
   "display_name": "Python 3",
   "language": "python",
   "name": "python3"
  },
  "language_info": {
   "codemirror_mode": {
    "name": "ipython",
    "version": 3
   },
   "file_extension": ".py",
   "mimetype": "text/x-python",
   "name": "python",
   "nbconvert_exporter": "python",
   "pygments_lexer": "ipython3",
   "version": "3.7.3"
  }
 },
 "nbformat": 4,
 "nbformat_minor": 2
}
