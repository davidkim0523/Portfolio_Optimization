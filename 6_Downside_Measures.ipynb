{
 "cells": [
  {
   "cell_type": "markdown",
   "metadata": {},
   "source": [
    "# 하방 리스크 측정 : 반편차, 최대예상손실액(VaR), 조건부 최대예상손실액(CVaR)\n",
    "\n",
    "\n",
    "이번 시간에는 하방 위험 측정하기 위한 몇 가지 도구들을 살펴볼 것입니다. 우리는 이미 낙폭을 계산하는 방법을 알고 있습니다. 여기서는 낙폭 이외에도 널리 사용되는 3가지 측정 지표들을 알아보고 이를 계산하는 코드를 작성하여 도구상자에 추가할 것입니다.\n",
    "\n",
    "첫 번째 측정지표는 **반편차(Semi-Deviation)**로써 가장 단순한 측정치입니다. 이는 간단히 말해 음수인 수익률들의 변동성입니다.\n",
    "\n",
    "코드 또한 매우 단순합니다.\n",
    "\n",
    "```python\n",
    "def semideviation(r):\n",
    "    \"\"\"\n",
    "    Returns the semideviation aka negative semideviation of r\n",
    "    r must be a Series or a DataFrame, else raises a TypeError\n",
    "    \"\"\"\n",
    "    is_negative = r < 0\n",
    "    return r[is_negative].std(ddof=0)\n",
    "```\n"
   ]
  },
  {
   "cell_type": "code",
   "execution_count": 1,
   "metadata": {},
   "outputs": [],
   "source": [
    "import pandas as pd\n",
    "import port_opt_toolkit as potk\n",
    "%load_ext autoreload\n",
    "%autoreload 2\n",
    "%matplotlib inline"
   ]
  },
  {
   "cell_type": "code",
   "execution_count": 2,
   "metadata": {},
   "outputs": [],
   "source": [
    "hfi = potk.get_hfi_returns()"
   ]
  },
  {
   "cell_type": "code",
   "execution_count": 3,
   "metadata": {},
   "outputs": [],
   "source": [
    "def semideviation(r):\n",
    "    \"\"\"\n",
    "    Returns the semideviation aka negative semideviation of r\n",
    "    r must be a Series or a DataFrame, else raises a TypeError\n",
    "    \"\"\"\n",
    "    is_negative = r < 0\n",
    "    return r[is_negative].std(ddof=0)"
   ]
  },
  {
   "cell_type": "code",
   "execution_count": 4,
   "metadata": {},
   "outputs": [
    {
     "data": {
      "text/plain": [
       "Convertible Arbitrage     0.019540\n",
       "CTA Global                0.012443\n",
       "Distressed Securities     0.015185\n",
       "Emerging Markets          0.028039\n",
       "Equity Market Neutral     0.009566\n",
       "Event Driven              0.015429\n",
       "Fixed Income Arbitrage    0.017763\n",
       "Global Macro              0.006579\n",
       "Long/Short Equity         0.014051\n",
       "Merger Arbitrage          0.008875\n",
       "Relative Value            0.012244\n",
       "Short Selling             0.027283\n",
       "Funds Of Funds            0.012122\n",
       "dtype: float64"
      ]
     },
     "execution_count": 4,
     "metadata": {},
     "output_type": "execute_result"
    }
   ],
   "source": [
    "potk.semideviation(hfi)"
   ]
  },
  {
   "cell_type": "code",
   "execution_count": 5,
   "metadata": {},
   "outputs": [
    {
     "data": {
      "text/plain": [
       "Convertible Arbitrage     0.019540\n",
       "CTA Global                0.012443\n",
       "Distressed Securities     0.015185\n",
       "Emerging Markets          0.028039\n",
       "Equity Market Neutral     0.009566\n",
       "Event Driven              0.015429\n",
       "Fixed Income Arbitrage    0.017763\n",
       "Global Macro              0.006579\n",
       "Long/Short Equity         0.014051\n",
       "Merger Arbitrage          0.008875\n",
       "Relative Value            0.012244\n",
       "Short Selling             0.027283\n",
       "Funds Of Funds            0.012122\n",
       "dtype: float64"
      ]
     },
     "execution_count": 5,
     "metadata": {},
     "output_type": "execute_result"
    }
   ],
   "source": [
    "hfi[hfi<0].std(ddof=0)"
   ]
  },
  {
   "cell_type": "code",
   "execution_count": 6,
   "metadata": {},
   "outputs": [
    {
     "data": {
      "text/plain": [
       "Global Macro              0.006579\n",
       "Merger Arbitrage          0.008875\n",
       "Equity Market Neutral     0.009566\n",
       "Funds Of Funds            0.012122\n",
       "Relative Value            0.012244\n",
       "CTA Global                0.012443\n",
       "Long/Short Equity         0.014051\n",
       "Distressed Securities     0.015185\n",
       "Event Driven              0.015429\n",
       "Fixed Income Arbitrage    0.017763\n",
       "Convertible Arbitrage     0.019540\n",
       "Short Selling             0.027283\n",
       "Emerging Markets          0.028039\n",
       "dtype: float64"
      ]
     },
     "execution_count": 6,
     "metadata": {},
     "output_type": "execute_result"
    }
   ],
   "source": [
    "potk.semideviation(hfi).sort_values()"
   ]
  },
  {
   "cell_type": "code",
   "execution_count": 7,
   "metadata": {},
   "outputs": [
    {
     "data": {
      "text/plain": [
       "SmallCap    0.051772\n",
       "LargeCap    0.040245\n",
       "dtype: float64"
      ]
     },
     "execution_count": 7,
     "metadata": {},
     "output_type": "execute_result"
    }
   ],
   "source": [
    "ffme = potk.get_ffme_returns()\n",
    "potk.semideviation(ffme)"
   ]
  },
  {
   "cell_type": "code",
   "execution_count": 9,
   "metadata": {},
   "outputs": [
    {
     "ename": "TypeError",
     "evalue": "'<' not supported between instances of 'list' and 'int'",
     "output_type": "error",
     "traceback": [
      "\u001b[1;31m---------------------------------------------------------------------------\u001b[0m",
      "\u001b[1;31mTypeError\u001b[0m                                 Traceback (most recent call last)",
      "\u001b[1;32m<ipython-input-9-394ccadb35fa>\u001b[0m in \u001b[0;36m<module>\u001b[1;34m\u001b[0m\n\u001b[0;32m      1\u001b[0m \u001b[1;31m# This will not work\u001b[0m\u001b[1;33m\u001b[0m\u001b[1;33m\u001b[0m\u001b[1;33m\u001b[0m\u001b[0m\n\u001b[1;32m----> 2\u001b[1;33m \u001b[0mpotk\u001b[0m\u001b[1;33m.\u001b[0m\u001b[0msemideviation\u001b[0m\u001b[1;33m(\u001b[0m\u001b[1;33m[\u001b[0m\u001b[1;36m1\u001b[0m\u001b[1;33m,\u001b[0m\u001b[1;36m2\u001b[0m\u001b[1;33m,\u001b[0m\u001b[1;36m3\u001b[0m\u001b[1;33m,\u001b[0m\u001b[1;36m4\u001b[0m\u001b[1;33m]\u001b[0m\u001b[1;33m)\u001b[0m\u001b[1;33m\u001b[0m\u001b[1;33m\u001b[0m\u001b[0m\n\u001b[0m",
      "\u001b[1;32m~\\Documents\\notebooks_and_codem01_v02\\nb\\port_opt_toolkit.py\u001b[0m in \u001b[0;36msemideviation\u001b[1;34m(r)\u001b[0m\n\u001b[0;32m     86\u001b[0m     \u001b[0mr\u001b[0m \u001b[0mmust\u001b[0m \u001b[0mbe\u001b[0m \u001b[0ma\u001b[0m \u001b[0mSeries\u001b[0m \u001b[1;32mor\u001b[0m \u001b[0ma\u001b[0m \u001b[0mDataFrame\u001b[0m\u001b[1;33m\u001b[0m\u001b[1;33m\u001b[0m\u001b[0m\n\u001b[0;32m     87\u001b[0m     \"\"\"\n\u001b[1;32m---> 88\u001b[1;33m     \u001b[0mis_negative\u001b[0m \u001b[1;33m=\u001b[0m \u001b[0mr\u001b[0m \u001b[1;33m<\u001b[0m \u001b[1;36m0\u001b[0m\u001b[1;33m\u001b[0m\u001b[1;33m\u001b[0m\u001b[0m\n\u001b[0m\u001b[0;32m     89\u001b[0m     \u001b[1;32mreturn\u001b[0m \u001b[0mr\u001b[0m\u001b[1;33m[\u001b[0m\u001b[0mis_negative\u001b[0m\u001b[1;33m]\u001b[0m\u001b[1;33m.\u001b[0m\u001b[0mstd\u001b[0m\u001b[1;33m(\u001b[0m\u001b[0mddof\u001b[0m\u001b[1;33m=\u001b[0m\u001b[1;36m0\u001b[0m\u001b[1;33m)\u001b[0m\u001b[1;33m\u001b[0m\u001b[1;33m\u001b[0m\u001b[0m\n\u001b[0;32m     90\u001b[0m \u001b[1;33m\u001b[0m\u001b[0m\n",
      "\u001b[1;31mTypeError\u001b[0m: '<' not supported between instances of 'list' and 'int'"
     ]
    }
   ],
   "source": [
    "# This will not work\n",
    "potk.semideviation([1,2,3,4])"
   ]
  },
  {
   "cell_type": "markdown",
   "metadata": {},
   "source": [
    "# VaR, CVaR\n",
    "\n",
    "최대예상손실액(VaR, Value at Risk)를 계산하는 세 가지 방법을 살펴보겠습니다.\n",
    "\n",
    "1. 역사적 VaR (Historical VaR)\n",
    "2. 모수적 가우시안 VaR (Parametric Gaussian VaR)\n",
    "3. 수정 VaR (Modified (Cornish-Fisher) VaR)\n",
    "\n",
    "우선 역사적 VaR입니다. 특정 수준(예: 5%)에서 역사적 VaR를 계산하려면 수익률 집합을 순서대로 세워 그 중 하위 5%에 해당하는 값을 찾기만 하면 됩니다.\n",
    "\n",
    "![역사적 VaR](./historical_var.jpg/)\n",
    "\n",
    "다행히도, 넘파이는 `np.percentile`이라는 함수를 가지고 있고, 이 함수는 정확히 우리가 원하는 기능을 수행합니다.\n",
    "\n",
    "아래의 코드 블록은 `port_opt_toolkit.py` 파일에 추가해보겠습니다.\n",
    "\n",
    "```python\n",
    "\n",
    "def var_historic(r, level=5):\n",
    "    \"\"\"\n",
    "    Returns the historic Value at Risk at a specified level\n",
    "    i.e. returns the number such that \"level\" percent of the returns\n",
    "    fall below that number, and the (100-level) percent are above\n",
    "    \"\"\"\n",
    "    if isinstance(r, pd.DataFrame):\n",
    "        return r.aggregate(var_historic, level=level)\n",
    "    elif isinstance(r, pd.Series):\n",
    "        return -np.percentile(r, level)\n",
    "    else:\n",
    "        raise TypeError(\"Expected r to be a Series or DataFrame\")        \n",
    "```"
   ]
  },
  {
   "cell_type": "code",
   "execution_count": 14,
   "metadata": {},
   "outputs": [
    {
     "data": {
      "text/plain": [
       "-0.0274"
      ]
     },
     "execution_count": 14,
     "metadata": {},
     "output_type": "execute_result"
    }
   ],
   "source": [
    "import numpy as np\n",
    "np.percentile(hfi, 5)"
   ]
  },
  {
   "cell_type": "code",
   "execution_count": 15,
   "metadata": {},
   "outputs": [
    {
     "data": {
      "text/plain": [
       "Convertible Arbitrage     0.031776\n",
       "CTA Global                0.049542\n",
       "Distressed Securities     0.046654\n",
       "Emerging Markets          0.088466\n",
       "Equity Market Neutral     0.018000\n",
       "Event Driven              0.048612\n",
       "Fixed Income Arbitrage    0.041672\n",
       "Global Macro              0.024316\n",
       "Long/Short Equity         0.049558\n",
       "Merger Arbitrage          0.025336\n",
       "Relative Value            0.026660\n",
       "Short Selling             0.113576\n",
       "Funds Of Funds            0.039664\n",
       "dtype: float64"
      ]
     },
     "execution_count": 15,
     "metadata": {},
     "output_type": "execute_result"
    }
   ],
   "source": [
    "potk.var_historic(hfi, level=1)"
   ]
  },
  {
   "cell_type": "markdown",
   "metadata": {},
   "source": [
    "VaR과 관련해서는 보고의 목적으로 부호를 바꾸는 것이 일반적이므로 손실, 즉 위험에 처한 금액을 나타내는 양수를 보고합니다."
   ]
  },
  {
   "cell_type": "markdown",
   "metadata": {},
   "source": [
    "# 조건부 최대예상손실액 (CVaR, Conditional VaR)\n",
    "\n",
    "이제 VaR이 있으므로 CVaR은 매우 쉽습니다. CVaR는 단순히 VaR 값 밑으로 떨어진 숫자들의 평균입니다."
   ]
  },
  {
   "cell_type": "code",
   "execution_count": 16,
   "metadata": {},
   "outputs": [
    {
     "data": {
      "text/plain": [
       "Global Macro              0.029333\n",
       "Equity Market Neutral     0.036100\n",
       "Merger Arbitrage          0.036233\n",
       "Relative Value            0.052367\n",
       "CTA Global                0.054767\n",
       "Funds Of Funds            0.061133\n",
       "Long/Short Equity         0.061867\n",
       "Distressed Securities     0.070967\n",
       "Event Driven              0.071267\n",
       "Fixed Income Arbitrage    0.072467\n",
       "Convertible Arbitrage     0.086100\n",
       "Short Selling             0.123867\n",
       "Emerging Markets          0.141167\n",
       "dtype: float64"
      ]
     },
     "execution_count": 16,
     "metadata": {},
     "output_type": "execute_result"
    }
   ],
   "source": [
    "potk.cvar_historic(hfi, level=1).sort_values()"
   ]
  },
  {
   "cell_type": "code",
   "execution_count": 17,
   "metadata": {},
   "outputs": [
    {
     "data": {
      "text/plain": [
       "SmallCap    0.162609\n",
       "LargeCap    0.121277\n",
       "dtype: float64"
      ]
     },
     "execution_count": 17,
     "metadata": {},
     "output_type": "execute_result"
    }
   ],
   "source": [
    "potk.cvar_historic(ffme)"
   ]
  },
  {
   "cell_type": "markdown",
   "metadata": {},
   "source": [
    "## 모수적 가우시안 VaR\n",
    "\n",
    "모수적 가우시안 VaR에 대한 아이디어는 매우 간단합니다. 만약 수익률 집합이 정규 분포를 따르는 경우, 우리는 전체 수익률 집합의 절반은 평균 미만이고 나머지 절반은 평균 초과라는 것을 알고 있습니다.\n",
    "\n",
    "또한 우리는 수익률의 약 2/3가 1 표준 편차 내에 있다는 것을 알고 있습니다. 이는 전체의 1/3이 평균에서 1 표준편차를 넘어선다는 것을 의미합니다. 정규 분포는 대칭이므로 데이터의 약 1/6(약 16%) 정도는 1 하방 표준 편차 아래에 있습니다. 따라서 평균과 표준편차를 알고 수익이 정규 분포를 따른다고 가정하면 16% VaR은 평균에서 표준편차 1을 뺀 값이 됩니다.\n",
    "\n",
    "일반적으로 백분위수는 z-점수로 변환될 수 있습니다. 따라서 VaR 수준(예: 1% 또는 5%)을 z-점수로 변환할 수 있다면 해당 분위수에 위치한 수익률을 알 수 있습니다.\n",
    "\n",
    "`scipy.stat.norm`에는 정확히 해당 기능을 수행하는 `ppf()` 함수가 포함되어 있습니다. 이는 0.05 또는 0.01과 같은 백분위수를 사용하여 정규 분포에 해당하는 z-점수를 제공합니다."
   ]
  },
  {
   "cell_type": "code",
   "execution_count": 22,
   "metadata": {},
   "outputs": [
    {
     "data": {
      "text/plain": [
       "0.0"
      ]
     },
     "execution_count": 22,
     "metadata": {},
     "output_type": "execute_result"
    }
   ],
   "source": [
    "from scipy.stats import norm\n",
    "norm.ppf(.5)"
   ]
  },
  {
   "cell_type": "code",
   "execution_count": 23,
   "metadata": {},
   "outputs": [
    {
     "data": {
      "text/plain": [
       "-0.994457883209753"
      ]
     },
     "execution_count": 23,
     "metadata": {},
     "output_type": "execute_result"
    }
   ],
   "source": [
    "norm.ppf(.16)"
   ]
  },
  {
   "cell_type": "markdown",
   "metadata": {},
   "source": [
    "따라서 이 방법을 사용하여 VaR을 추정하기 위해 해야 할 일은 해당 백분위수 수준에 해당하는 z-점수를 찾은 다음 이를 표준 편차에 곱한 뒤 평균에 더하는 것입니다.\n",
    "\n",
    "```python\n",
    "from scipy.stats import norm\n",
    "def var_gaussian(r, level=5):\n",
    "    \"\"\"\n",
    "    Returns the Parametric Gauusian VaR of a Series or DataFrame\n",
    "    \"\"\"\n",
    "    # compute the Z score assuming it was Gaussian\n",
    "    z = norm.ppf(level/100)\n",
    "    return -(r.mean() + z*r.std(ddof=0))\n",
    "```"
   ]
  },
  {
   "cell_type": "code",
   "execution_count": 24,
   "metadata": {},
   "outputs": [
    {
     "data": {
      "text/plain": [
       "Convertible Arbitrage     0.021691\n",
       "CTA Global                0.034235\n",
       "Distressed Securities     0.021032\n",
       "Emerging Markets          0.047164\n",
       "Equity Market Neutral     0.008850\n",
       "Event Driven              0.021144\n",
       "Fixed Income Arbitrage    0.014579\n",
       "Global Macro              0.018766\n",
       "Long/Short Equity         0.026397\n",
       "Merger Arbitrage          0.010435\n",
       "Relative Value            0.013061\n",
       "Short Selling             0.080086\n",
       "Funds Of Funds            0.021292\n",
       "dtype: float64"
      ]
     },
     "execution_count": 24,
     "metadata": {},
     "output_type": "execute_result"
    }
   ],
   "source": [
    "potk.var_gaussian(hfi)"
   ]
  },
  {
   "cell_type": "code",
   "execution_count": 25,
   "metadata": {},
   "outputs": [
    {
     "data": {
      "text/plain": [
       "Convertible Arbitrage     0.01576\n",
       "CTA Global                0.03169\n",
       "Distressed Securities     0.01966\n",
       "Emerging Markets          0.04247\n",
       "Equity Market Neutral     0.00814\n",
       "Event Driven              0.02535\n",
       "Fixed Income Arbitrage    0.00787\n",
       "Global Macro              0.01499\n",
       "Long/Short Equity         0.02598\n",
       "Merger Arbitrage          0.01047\n",
       "Relative Value            0.01174\n",
       "Short Selling             0.06783\n",
       "Funds Of Funds            0.02047\n",
       "dtype: float64"
      ]
     },
     "execution_count": 25,
     "metadata": {},
     "output_type": "execute_result"
    }
   ],
   "source": [
    "potk.var_historic(hfi)"
   ]
  },
  {
   "cell_type": "markdown",
   "metadata": {},
   "source": [
    "# 수정 VaR (Cornish-Fisher Modification)\n",
    "\n",
    "코니쉬-피셔 수정 VaR은 우아하면서도 간단한 조정 방식입니다.\n",
    "\n",
    "z-점수는 VaR을 찾기 위해 이동해야 하는 평균에서 얼마나 많은 표준 편차가 있는지 알려줍니다. 하지만 수익률이 정규 분포가 아닌 경우 z-점수는 부정확한 값을 제공할 수밖에 없습니다. 코니쉬-피셔의 기본 아이디어는 데이터의 왜도와 첨도를 관찰할 수 있으므로 z-점수를 그만큼 위아래로 조정하여 수정된 z-점수를 얻을 수 있다는 것입니다. 예를 들어, 직관적으로 다른 모든 조건이 동일할 때 왜도가 음수이면 z-점수를 더 낮추고 왜도가 양수이면 위로 올립니다.\n",
    "\n",
    "\n",
    "$z_{cornishfisher}$라고 표기된 수정 z-s점수는 다음과 같은 공식을 따릅니다.\n",
    "\n",
    "$$ z_{cornishfisher} = z +\\frac{1}{6}(z^2-1)S + \\frac{1}{24}(z^3-3z)(K-3)-\\frac{1}{36}(2z^3-5z)S^2 $$\n",
    "\n",
    "만약 `modified` 패러미터 값이 `True`라면 `z` 값을 조정하는 다음 코드가 실행됩니다.\n",
    "\n",
    "```python\n",
    "    if modified:\n",
    "        # modify the Z score based on observed skewness and kurtosis\n",
    "        s = skewness(r)\n",
    "        k = kurtosis(r)\n",
    "        z = (z +\n",
    "                (z**2 - 1)*s/6 +\n",
    "                (z**3 -3*z)*(k-3)/24 -\n",
    "                (2*z**3 - 5*z)*(s**2)/36\n",
    "            )\n",
    "```\n",
    "\n",
    "다시 작성된 `var_gaussian` 함수는 다음과 같습니다.\n",
    "\n",
    "```python\n",
    "from scipy.stats import norm\n",
    "def var_gaussian(r, level=5, modified=False):\n",
    "    \"\"\"\n",
    "    Returns the Parametric Gauusian VaR of a Series or DataFrame\n",
    "    If \"modified\" is True, then the modified VaR is returned,\n",
    "    using the Cornish-Fisher modification\n",
    "    \"\"\"\n",
    "    # compute the Z score assuming it was Gaussian\n",
    "    z = norm.ppf(level/100)\n",
    "    if modified:\n",
    "        # modify the Z score based on observed skewness and kurtosis\n",
    "        s = skewness(r)\n",
    "        k = kurtosis(r)\n",
    "        z = (z +\n",
    "                (z**2 - 1)*s/6 +\n",
    "                (z**3 -3*z)*(k-3)/24 -\n",
    "                (2*z**3 - 5*z)*(s**2)/36\n",
    "            )\n",
    "        \n",
    "    return -(r.mean() + z*r.std(ddof=0))\n",
    "\n",
    "```\n",
    "\n",
    "이제 지금까지 구현한 여러 가지 방법들을 비교해보겠습니다."
   ]
  },
  {
   "cell_type": "code",
   "execution_count": 27,
   "metadata": {},
   "outputs": [
    {
     "data": {
      "text/plain": [
       "<matplotlib.axes._subplots.AxesSubplot at 0x264bd741a90>"
      ]
     },
     "execution_count": 27,
     "metadata": {},
     "output_type": "execute_result"
    },
    {
     "data": {
      "image/png": "[encoded data removed]",
      "text/plain": [
       "<Figure size 432x288 with 1 Axes>"
      ]
     },
     "metadata": {
      "needs_background": "light"
     },
     "output_type": "display_data"
    }
   ],
   "source": [
    "var_table = [potk.var_gaussian(hfi), \n",
    "             potk.var_gaussian(hfi, modified=True), \n",
    "             potk.var_historic(hfi)]\n",
    "comparison = pd.concat(var_table, axis=1)\n",
    "comparison.columns=['Gaussian', 'Cornish-Fisher', 'Historic']\n",
    "comparison.plot.bar(title=\"Hedge Fund Indices: VaR at 5%\")"
   ]
  },
  {
   "cell_type": "markdown",
   "metadata": {},
   "source": [
    "어떤 경우에는 수정 VaR의 값이 가우스 분포를 가정한 VaR보다 더 낮습니다. 즉, 이는 정규 분포 가정에서 얻을 수 있는 것보다 더 작은 손실을 추정합니다. 이는 \"공매도\" 및 \"글로벌 매크로\"의 경우와 같이 관찰된 왜도가 양수인 경우 발생할 수 있습니다."
   ]
  },
  {
   "cell_type": "code",
   "execution_count": 28,
   "metadata": {},
   "outputs": [
    {
     "data": {
      "text/plain": [
       "Global Macro              0.982922\n",
       "Short Selling             0.767975\n",
       "CTA Global                0.173699\n",
       "Funds Of Funds           -0.361783\n",
       "Long/Short Equity        -0.390227\n",
       "Emerging Markets         -1.167067\n",
       "Distressed Securities    -1.300842\n",
       "Merger Arbitrage         -1.320083\n",
       "Event Driven             -1.409154\n",
       "Relative Value           -1.815470\n",
       "Equity Market Neutral    -2.124435\n",
       "Convertible Arbitrage    -2.639592\n",
       "Fixed Income Arbitrage   -3.940320\n",
       "dtype: float64"
      ]
     },
     "execution_count": 28,
     "metadata": {},
     "output_type": "execute_result"
    }
   ],
   "source": [
    "potk.skewness(hfi).sort_values(ascending=False)"
   ]
  }
 ],
 "metadata": {
  "kernelspec": {
   "display_name": "Python 3",
   "language": "python",
   "name": "python3"
  },
  "language_info": {
   "codemirror_mode": {
    "name": "ipython",
    "version": 3
   },
   "file_extension": ".py",
   "mimetype": "text/x-python",
   "name": "python",
   "nbconvert_exporter": "python",
   "pygments_lexer": "ipython3",
   "version": "3.7.3"
  }
 },
 "nbformat": 4,
 "nbformat_minor": 2
}
